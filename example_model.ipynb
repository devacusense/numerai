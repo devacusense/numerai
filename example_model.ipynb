{
 "cells": [
  {
   "cell_type": "code",
   "execution_count": 1,
   "metadata": {
    "collapsed": true
   },
   "outputs": [],
   "source": [
    "import numpy as np\n",
    "import pandas as pd\n",
    "import matplotlib\n",
    "# Force matplotlib to not use any Xwindows backend.\n",
    "matplotlib.use('Agg')\n",
    "import matplotlib.pyplot as plt\n",
    "import math\n",
    "import cPickle\n",
    "import os\n",
    "import json\n",
    "import pickle\n",
    "import seaborn as sns\n",
    "from sklearn.model_selection import train_test_split\n",
    "from sklearn.metrics import accuracy_score\n",
    "from numpy import sort\n",
    "import matplotlib.pyplot as plt\n",
    "%matplotlib inline\n",
    "import random\n",
    "random.seed(0)\n",
    "# Force matplotlib to not use any Xwindows backend."
   ]
  },
  {
   "cell_type": "code",
   "execution_count": 2,
   "metadata": {},
   "outputs": [
    {
     "name": "stdout",
     "output_type": "stream",
     "text": [
      "Loading data...\n"
     ]
    }
   ],
   "source": [
    "# Read the data that Ajay labeled. Convert 1,000 to 1000\n",
    "from IPython.core.debugger import Tracer\n",
    "training_data_path = os.path.join('data', 'numerai_training_data.csv')\n",
    "prediction_data_path = os.path.join('data', 'numerai_tournament_data.csv')\n",
    "print(\"Loading data...\")\n",
    "# Load the data from the CSV files\n",
    "training_data = pd.read_csv(training_data_path, header=0)\n",
    "prediction_data = pd.read_csv(prediction_data_path, header=0)"
   ]
  },
  {
   "cell_type": "code",
   "execution_count": 3,
   "metadata": {},
   "outputs": [
    {
     "name": "stderr",
     "output_type": "stream",
     "text": [
      "/usr/local/lib/python2.7/dist-packages/ipykernel_launcher.py:14: SettingWithCopyWarning: \n",
      "A value is trying to be set on a copy of a slice from a DataFrame\n",
      "\n",
      "See the caveats in the documentation: http://pandas.pydata.org/pandas-docs/stable/indexing.html#indexing-view-versus-copy\n",
      "  \n",
      "/usr/local/lib/python2.7/dist-packages/ipykernel_launcher.py:15: SettingWithCopyWarning: \n",
      "A value is trying to be set on a copy of a slice from a DataFrame\n",
      "\n",
      "See the caveats in the documentation: http://pandas.pydata.org/pandas-docs/stable/indexing.html#indexing-view-versus-copy\n",
      "  from ipykernel import kernelapp as app\n"
     ]
    }
   ],
   "source": [
    "# Some clean up. Replace #DIV/0! with 0\n",
    "# I think 0 is a reasonable, non-biasing number because if, e.g. #Months is 0, a spend per month of 0 is reasonable\n",
    "training_data.replace(to_replace='#DIV/0!',value='0',inplace=True)\n",
    "training_data.fillna(0, inplace=True)\n",
    "prediction_data.replace(to_replace='#DIV/0!',value='0',inplace=True)\n",
    "prediction_data.fillna(0, inplace=True)\n",
    "# Transform the loaded CSV data into numpy arrays\n",
    "features = [f for f in list(training_data) if \"feature\" in f]\n",
    "X = training_data[features]\n",
    "Y = training_data[\"target\"]\n",
    "X_test = prediction_data[features]\n",
    "Y_test = prediction_data[\"target\"]\n",
    "ids = prediction_data[\"id\"]\n",
    "X.sort_index(axis=1, inplace=True)\n",
    "X_test.sort_index(axis=1, inplace=True)"
   ]
  },
  {
   "cell_type": "code",
   "execution_count": 4,
   "metadata": {},
   "outputs": [
    {
     "name": "stdout",
     "output_type": "stream",
     "text": [
      "<class 'pandas.core.frame.DataFrame'>\n",
      "RangeIndex: 108405 entries, 0 to 108404\n",
      "Data columns (total 21 columns):\n",
      "feature1     108405 non-null float64\n",
      "feature10    108405 non-null float64\n",
      "feature11    108405 non-null float64\n",
      "feature12    108405 non-null float64\n",
      "feature13    108405 non-null float64\n",
      "feature14    108405 non-null float64\n",
      "feature15    108405 non-null float64\n",
      "feature16    108405 non-null float64\n",
      "feature17    108405 non-null float64\n",
      "feature18    108405 non-null float64\n",
      "feature19    108405 non-null float64\n",
      "feature2     108405 non-null float64\n",
      "feature20    108405 non-null float64\n",
      "feature21    108405 non-null float64\n",
      "feature3     108405 non-null float64\n",
      "feature4     108405 non-null float64\n",
      "feature5     108405 non-null float64\n",
      "feature6     108405 non-null float64\n",
      "feature7     108405 non-null float64\n",
      "feature8     108405 non-null float64\n",
      "feature9     108405 non-null float64\n",
      "dtypes: float64(21)\n",
      "memory usage: 17.4 MB\n"
     ]
    }
   ],
   "source": [
    "X.info()"
   ]
  },
  {
   "cell_type": "code",
   "execution_count": 5,
   "metadata": {
    "collapsed": true
   },
   "outputs": [],
   "source": [
    "from sklearn.preprocessing import LabelEncoder \n",
    "le = LabelEncoder()\n",
    "\n",
    "training_data.reset_index( drop = True, inplace = True )\n",
    "Y = le.fit_transform(Y)"
   ]
  },
  {
   "cell_type": "markdown",
   "metadata": {},
   "source": [
    "#### Exploratory Data Analysis\n",
    "**Correlation coefficient plot:**\n",
    "\n",
    "Let us look at the correlation of each of the variables with the target variables to get some important variables to be used for our next steps."
   ]
  },
  {
   "cell_type": "code",
   "execution_count": 6,
   "metadata": {},
   "outputs": [
    {
     "data": {
      "image/png": "[encoded data removed]",
      "text/plain": [
       "<matplotlib.figure.Figure at 0x7ff71d94bf50>"
      ]
     },
     "metadata": {},
     "output_type": "display_data"
    }
   ],
   "source": [
    "# Now let us look at the correlation coefficient of each of these variables #\n",
    "x_cols = [col for col in X.columns]\n",
    "\n",
    "labels = []\n",
    "values = []\n",
    "for col in x_cols:\n",
    "    labels.append(col)\n",
    "    values.append(np.corrcoef(training_data[col].values, training_data['target'].values)[0,1])\n",
    "    \n",
    "ind = np.arange(len(labels))\n",
    "width = 0.3\n",
    "fig, ax = plt.subplots(figsize=(10,15))\n",
    "rects = ax.barh(ind, np.array(values), color='y')\n",
    "ax.set_yticks(ind+((width)/2.))\n",
    "ax.set_yticklabels(labels, rotation='horizontal')\n",
    "ax.set_xlabel(\"Correlation coefficient\")\n",
    "ax.set_title(\"Correlation coefficient\")\n",
    "#autolabel(rects)\n",
    "plt.show()"
   ]
  },
  {
   "cell_type": "markdown",
   "metadata": {},
   "source": [
    "As expected, the correlation coefficient values are very low and the maximum value is around 0.022 (in positive) as seen from the plot above.\n",
    "\n",
    "Let us take the top 4 variables from the plot above and do some more analysis on them alone.\n",
    "\n",
    " - feature2\n",
    " - feature10\n",
    " - feature12\n",
    " - feature21\n",
    "\n",
    "As a first step, let us get the correlation coefficient in between these variables. "
   ]
  },
  {
   "cell_type": "code",
   "execution_count": 7,
   "metadata": {},
   "outputs": [
    {
     "name": "stderr",
     "output_type": "stream",
     "text": [
      "/usr/lib/pymodules/python2.7/matplotlib/collections.py:548: FutureWarning: elementwise comparison failed; returning scalar instead, but in the future will perform elementwise comparison\n",
      "  if self._edgecolors == 'face':\n"
     ]
    },
    {
     "data": {
      "image/png": "[encoded data removed]",
      "text/plain": [
       "<matplotlib.figure.Figure at 0x7ff71d8d7190>"
      ]
     },
     "metadata": {},
     "output_type": "display_data"
    }
   ],
   "source": [
    "cols_to_use = ['feature2', 'feature10', 'feature12', 'feature21']\n",
    "temp_df = training_data[cols_to_use]\n",
    "corrmat = temp_df.corr(method='spearman')\n",
    "f, ax = plt.subplots(figsize=(8, 8))\n",
    "\n",
    "# Draw the heatmap using seaborn\n",
    "sns.heatmap(corrmat, vmax=.8, square=True)\n",
    "plt.show()"
   ]
  },
  {
   "cell_type": "markdown",
   "metadata": {},
   "source": [
    "There is some negative correlation between 'feature_21' and 'feature_2','feature_10','feature_12'.\n",
    "There is positive correlation between 'feature_2','feature_10','feature_12'. \n",
    "\n",
    "Now, let us build a basic xgboost model and then followed by xgboost model with PCA dimensional reduction.\n",
    "Number of dimensions can now be based on reduction of number of features having high positive correlation, since it may not provide any significant new information for model. "
   ]
  },
  {
   "cell_type": "code",
   "execution_count": 8,
   "metadata": {},
   "outputs": [
    {
     "name": "stderr",
     "output_type": "stream",
     "text": [
      "/usr/local/lib/python2.7/dist-packages/pandas/core/frame.py:2754: SettingWithCopyWarning: \n",
      "A value is trying to be set on a copy of a slice from a DataFrame\n",
      "\n",
      "See the caveats in the documentation: http://pandas.pydata.org/pandas-docs/stable/indexing.html#indexing-view-versus-copy\n",
      "  downcast=downcast, **kwargs)\n"
     ]
    }
   ],
   "source": [
    "X.fillna(0, inplace=True)"
   ]
  },
  {
   "cell_type": "code",
   "execution_count": 9,
   "metadata": {
    "collapsed": true
   },
   "outputs": [],
   "source": [
    "#*** Split into training and testing data\n",
    "X_train, X_val, y_train, y_val = train_test_split(X, Y, test_size=0.2)\n",
    "X_train.sort_index(axis=1, inplace=True)\n",
    "X_test.sort_index(axis=1,inplace=True)\n",
    "X_val.sort_index(axis=1,inplace=True)"
   ]
  },
  {
   "cell_type": "code",
   "execution_count": 10,
   "metadata": {},
   "outputs": [
    {
     "name": "stdout",
     "output_type": "stream",
     "text": [
      "Train set\n",
      "[0 1]\n",
      "[43094 43630]\n",
      "Validation set\n",
      "[0 1]\n",
      "[10655 11026]\n"
     ]
    }
   ],
   "source": [
    "unique, counts = np.unique(y_train, return_counts=True)\n",
    "# Number of classes and number of examples for each class\n",
    "print \"Train set\"\n",
    "print unique\n",
    "print counts\n",
    "dict(zip(unique, counts))\n",
    "# Number of examples for validation set\n",
    "unique, counts = np.unique(y_val, return_counts=True)\n",
    "dict(zip(unique, counts))\n",
    "print \"Validation set\"\n",
    "print unique\n",
    "print counts"
   ]
  },
  {
   "cell_type": "markdown",
   "metadata": {},
   "source": [
    "Since the number of examples for each set is around the same number there wont be a problem of imbalanced data sets\n",
    "#### Building initial XGBoost model"
   ]
  },
  {
   "cell_type": "code",
   "execution_count": 11,
   "metadata": {},
   "outputs": [
    {
     "name": "stderr",
     "output_type": "stream",
     "text": [
      "/usr/local/lib/python2.7/dist-packages/sklearn/cross_validation.py:41: DeprecationWarning: This module was deprecated in version 0.18 in favor of the model_selection module into which all the refactored classes and functions are moved. Also note that the interface of the new CV iterators are different from that of this module. This module will be removed in 0.20.\n",
      "  \"This module will be removed in 0.20.\", DeprecationWarning)\n"
     ]
    },
    {
     "name": "stdout",
     "output_type": "stream",
     "text": [
      "('Train accuracy: ', 0.5448434112817675)\n",
      "('Test accuracy: ', 0.5179189151791892)\n"
     ]
    }
   ],
   "source": [
    "from xgboost import XGBClassifier, plot_importance\n",
    "model = XGBClassifier() \n",
    "\n",
    "model.fit(X_train, y_train)\n",
    "\n",
    "#scores = cross_val_score(model, X, y, cv=5)\n",
    "#print (scores.mean())\n",
    "\n",
    "#*** Test\n",
    "y_val_pred = model.predict(X_val)\n",
    "y_train_pred = model.predict(X_train)\n",
    "\n",
    "#*** Get Accuracy\n",
    "from sklearn.metrics import accuracy_score\n",
    "test_acc = accuracy_score(y_val, y_val_pred)\n",
    "train_acc = accuracy_score(y_train, y_train_pred)\n",
    "print ('Train accuracy: ', train_acc)\n",
    "print ('Test accuracy: ', test_acc)"
   ]
  },
  {
   "cell_type": "code",
   "execution_count": 12,
   "metadata": {},
   "outputs": [
    {
     "name": "stdout",
     "output_type": "stream",
     "text": [
      "Predicting...\n"
     ]
    }
   ],
   "source": [
    "print(\"Predicting...\")\n",
    "# Your trained model is now used to make predictions on the numerai_tournament_data\n",
    "# The model returns two columns: [probability of 0, probability of 1]\n",
    "# We are just interested in the probability that the target is 1.\n",
    "y_test_pred = model.predict_proba(X_test)\n",
    "results = y_test_pred[:, 1]\n",
    "results_df = pd.DataFrame(data={'probability':results})\n",
    "joined = pd.DataFrame(ids).join(results_df)"
   ]
  },
  {
   "cell_type": "code",
   "execution_count": 13,
   "metadata": {
    "collapsed": true
   },
   "outputs": [],
   "source": [
    "#save the config\n",
    "config = {'model_type':'xgboost', 'features':str(sort(features))}\n",
    "config_filename = 'config.json'\n",
    "with open(config_filename, 'wb') as f:\n",
    "    f.write(json.dumps(config))\n",
    "# save the classifier\n",
    "stats = {\"train accuracy\": train_acc,\"test accuracy\":test_acc}\n",
    "metadata = {'label':'initial'}\n",
    "# Save the predictions out to a CSV file\n",
    "predictions_path = os.path.join(os.environ['DATMO_TASK_DIR'], 'predictions.csv')\n",
    "joined.to_csv(predictions_path, index=False)\n",
    "model_filename = os.path.join(os.environ['DATMO_TASK_DIR'],'model.dat')\n",
    "pickle.dump(model, open(model_filename, 'wb'))\n",
    "metadata_filename = os.path.join(os.environ['DATMO_TASK_DIR'],'metadata.json')\n",
    "pickle.dump(model, open(metadata_filename, 'wb'))\n",
    "stats_filename = os.path.join(os.environ['DATMO_TASK_DIR'],'stats.json')\n",
    "with open(stats_filename, 'wb') as f:\n",
    "    f.write(json.dumps(stats))"
   ]
  },
  {
   "cell_type": "code",
   "execution_count": 14,
   "metadata": {
    "scrolled": true
   },
   "outputs": [
    {
     "data": {
      "text/plain": [
       "<matplotlib.axes.AxesSubplot at 0x7ff71d2b5750>"
      ]
     },
     "execution_count": 14,
     "metadata": {},
     "output_type": "execute_result"
    },
    {
     "data": {
      "image/png": "[encoded data removed]",
      "text/plain": [
       "<matplotlib.figure.Figure at 0x7ff71db9ae50>"
      ]
     },
     "metadata": {},
     "output_type": "display_data"
    }
   ],
   "source": [
    "#Feature importance\n",
    "plot_importance(model)"
   ]
  },
  {
   "cell_type": "markdown",
   "metadata": {},
   "source": [
    "#### Dimensionality reduction \n",
    "Reducing the dimension before training the final XGboost model"
   ]
  },
  {
   "cell_type": "code",
   "execution_count": 15,
   "metadata": {},
   "outputs": [
    {
     "name": "stdout",
     "output_type": "stream",
     "text": [
      "Thresh=0.012, n=21, Accuracy: 51.79%\n",
      "Thresh=0.014, n=20, Accuracy: 51.38%\n",
      "Thresh=0.018, n=19, Accuracy: 51.42%\n",
      "Thresh=0.020, n=18, Accuracy: 51.66%\n",
      "Thresh=0.023, n=17, Accuracy: 51.38%\n",
      "Thresh=0.026, n=16, Accuracy: 51.50%\n",
      "Thresh=0.026, n=16, Accuracy: 51.50%\n",
      "Thresh=0.029, n=14, Accuracy: 51.58%\n",
      "Thresh=0.038, n=13, Accuracy: 51.82%\n",
      "Thresh=0.038, n=13, Accuracy: 51.82%\n",
      "Thresh=0.040, n=11, Accuracy: 51.38%\n",
      "Thresh=0.041, n=10, Accuracy: 51.94%\n",
      "Thresh=0.054, n=9, Accuracy: 51.59%\n",
      "Thresh=0.055, n=8, Accuracy: 51.54%\n",
      "Thresh=0.058, n=7, Accuracy: 51.35%\n",
      "Thresh=0.063, n=6, Accuracy: 51.45%\n",
      "Thresh=0.069, n=5, Accuracy: 51.63%\n",
      "Thresh=0.076, n=4, Accuracy: 51.52%\n",
      "Thresh=0.089, n=3, Accuracy: 51.01%\n",
      "Thresh=0.095, n=2, Accuracy: 50.84%\n",
      "Thresh=0.116, n=1, Accuracy: 50.40%\n",
      "Best feature list:\n",
      "['feature10' 'feature12' 'feature15' 'feature16' 'feature19' 'feature4'\n",
      " 'feature5' 'feature6' 'feature7' 'feature9']\n"
     ]
    }
   ],
   "source": [
    "import operator\n",
    "from sklearn.model_selection import train_test_split\n",
    "from sklearn.metrics import accuracy_score\n",
    "from sklearn.feature_selection import SelectFromModel\n",
    "from sklearn.metrics import accuracy_score\n",
    "\n",
    "thresholds = sort(model.feature_importances_)\n",
    "thresh = thresholds[-2]\n",
    "best_feature_list = []\n",
    "best_accuracy = -1*float(\"inf\")\n",
    "best_model = None\n",
    "\n",
    "# list of features sorted by their importance\n",
    "fscore_dict = model.booster().get_fscore()\n",
    "sorted_fscore_dict = sorted(fscore_dict.items(), key=lambda x: x[1], reverse=True)\n",
    "sorted_important_features_list = []\n",
    "for item in sorted_fscore_dict:\n",
    "    sorted_important_features_list.append(item[0])\n",
    "    \n",
    "for thresh in thresholds:\n",
    "    # select features using threshold\n",
    "    selection = SelectFromModel(model, threshold=thresh, prefit=True)\n",
    "    transformed_X_train = selection.transform(X_train)\n",
    "    sorted_feature_list = sorted(fscore_dict.items(), key=operator.itemgetter(1))\n",
    "    feature_list = sort(sorted_important_features_list[:transformed_X_train.shape[1]])\n",
    "    select_X_train = X_train[feature_list]\n",
    "    # train model\n",
    "    selection_model = XGBClassifier()\n",
    "    selection_model.fit(select_X_train, y_train)    \n",
    "    # eval model\n",
    "    select_X_val = X_val[feature_list]\n",
    "    y_pred = selection_model.predict(select_X_val)\n",
    "    predictions = [round(value) for value in y_pred]\n",
    "    accuracy = accuracy_score(y_val, predictions)\n",
    "    if accuracy >= best_accuracy:\n",
    "        best_accuracy = accuracy\n",
    "        best_feature_list = feature_list\n",
    "        best_model = selection_model\n",
    "    print(\"Thresh=%.3f, n=%d, Accuracy: %.2f%%\" % (thresh, select_X_train.shape[1], accuracy*100.0))\n",
    "\n",
    "print \"Best feature list:\"\n",
    "print best_feature_list"
   ]
  },
  {
   "cell_type": "code",
   "execution_count": 16,
   "metadata": {},
   "outputs": [
    {
     "name": "stdout",
     "output_type": "stream",
     "text": [
      "('Train accuracy: ', 0.54395553710622202)\n",
      "('Test accuracy: ', 0.51939486186061523)\n"
     ]
    }
   ],
   "source": [
    "#*** Test\n",
    "y_val_pred = best_model.predict(X_val[best_feature_list])\n",
    "y_train_pred = best_model.predict(X_train[best_feature_list])\n",
    "\n",
    "#*** Get Accuracy\n",
    "from sklearn.metrics import accuracy_score\n",
    "test_acc = accuracy_score(y_val, y_val_pred)\n",
    "train_acc = accuracy_score(y_train, y_train_pred)\n",
    "print ('Train accuracy: ', train_acc)\n",
    "print ('Test accuracy: ', test_acc)"
   ]
  },
  {
   "cell_type": "code",
   "execution_count": 19,
   "metadata": {
    "collapsed": true
   },
   "outputs": [],
   "source": [
    "#save the config\n",
    "config = {'model_type':'xgboost', 'features':str(best_feature_list)}\n",
    "config_filename = 'config.json'\n",
    "with open(config_filename, 'wb') as f:\n",
    "    f.write(json.dumps(config))\n",
    "# save the classifier\n",
    "stats = {\"train accuracy\": train_acc,\"test accuracy\":test_acc}\n",
    "metadata = {'label':'dimensional-reduction'}\n",
    "# Save the predictions out to a CSV file\n",
    "predictions_path = os.path.join(os.environ['DATMO_TASK_DIR'], 'predictions.csv')\n",
    "joined.to_csv(predictions_path, index=False)\n",
    "model_filename = os.path.join(os.environ['DATMO_TASK_DIR'],'model.dat')\n",
    "pickle.dump(best_model, open(model_filename, 'wb'))\n",
    "metadata_filename = os.path.join(os.environ['DATMO_TASK_DIR'],'metadata.json')\n",
    "pickle.dump(model, open(metadata_filename, 'wb'))\n",
    "stats_filename = os.path.join(os.environ['DATMO_TASK_DIR'],'stats.json')\n",
    "with open(stats_filename, 'wb') as f:\n",
    "    f.write(json.dumps(stats))"
   ]
  },
  {
   "cell_type": "markdown",
   "metadata": {},
   "source": [
    "#### API Creation by loading the model"
   ]
  },
  {
   "cell_type": "code",
   "execution_count": 20,
   "metadata": {},
   "outputs": [
    {
     "name": "stdout",
     "output_type": "stream",
     "text": [
      "<class 'pandas.core.frame.DataFrame'>\n",
      "RangeIndex: 1 entries, 0 to 0\n",
      "Data columns (total 10 columns):\n",
      "feature10    1 non-null float64\n",
      "feature12    1 non-null float64\n",
      "feature15    1 non-null float64\n",
      "feature16    1 non-null float64\n",
      "feature19    1 non-null float64\n",
      "feature4     1 non-null float64\n",
      "feature5     1 non-null float64\n",
      "feature6     1 non-null float64\n",
      "feature7     1 non-null float64\n",
      "feature9     1 non-null float64\n",
      "dtypes: float64(10)\n",
      "memory usage: 152.0 bytes\n"
     ]
    },
    {
     "data": {
      "text/plain": [
       "0"
      ]
     },
     "execution_count": 20,
     "metadata": {},
     "output_type": "execute_result"
    }
   ],
   "source": [
    "#Code for API creation loading the model\n",
    "import numpy as np\n",
    "import pandas as pd\n",
    "import math\n",
    "import cPickle\n",
    "import os\n",
    "import pickle\n",
    "import xgboost as xgb\n",
    "model_filename = os.path.join(os.environ['DATMO_TASK_DIR'],'model.dat')\n",
    "# load model from file\n",
    "loaded_model = pickle.load(open(model_filename, \"rb\"))\n",
    "\n",
    "X = {'feature1': [0.51999], 'feature2': [0.62194], 'feature3': [0.5529], 'feature4': [0.5379], 'feature5':[0.45459],'feature6':[0.48424],'feature7':[0.55901],'feature8':[0.44721],'feature9':[0.26677],'feature10':[0.61347],'feature11':[0.47019],'feature12':[0.56532],'feature13':[0.45956],'feature14':[0.64501],'feature15':[0.63455],'feature16':[0.41849],'feature17':[0.53119],'feature18':[0.54691],'feature19':[0.58776],'feature20':[0.39615],'feature21':[0.32122]}\n",
    "x_intermediate = pd.DataFrame(X)\n",
    "feature_list = ['feature10', 'feature12', 'feature15', 'feature16', 'feature19', 'feature4', 'feature5', 'feature6', 'feature7', 'feature9']\n",
    "x_intermediate = x_intermediate[feature_list]\n",
    "x_intermediate.info()\n",
    "y_pred = loaded_model.predict(x_intermediate)\n",
    "y_pred[y_pred > 0.5] = 1\n",
    "y_pred[y_pred <= 0.5] = 0\n",
    "int(y_pred[0])"
   ]
  },
  {
   "cell_type": "code",
   "execution_count": null,
   "metadata": {
    "collapsed": true
   },
   "outputs": [],
   "source": []
  }
 ],
 "metadata": {
  "anaconda-cloud": {},
  "kernelspec": {
   "display_name": "Python 2",
   "language": "python",
   "name": "python2"
  },
  "language_info": {
   "codemirror_mode": {
    "name": "ipython",
    "version": 2
   },
   "file_extension": ".py",
   "mimetype": "text/x-python",
   "name": "python",
   "nbconvert_exporter": "python",
   "pygments_lexer": "ipython2",
   "version": "2.7.6"
  }
 },
 "nbformat": 4,
 "nbformat_minor": 1
}
